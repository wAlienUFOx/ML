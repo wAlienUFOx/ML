{
 "cells": [
  {
   "cell_type": "markdown",
   "id": "028ee51b",
   "metadata": {},
   "source": [
    "# Лабораторная работа №2.\n",
    "\n",
    "Выполнил: Анисимов Валерий\n",
    "\n",
    "Группа: М8О-308Б-18.\n",
    "\n",
    "Вариант: 3"
   ]
  },
  {
   "cell_type": "code",
   "execution_count": 1,
   "id": "d026f8d4",
   "metadata": {},
   "outputs": [],
   "source": [
    "import numpy as np\n",
    "import pandas as pd\n",
    "import matplotlib.pyplot as plt\n",
    "from sklearn.model_selection import train_test_split\n",
    "import copy\n",
    "from sklearn.linear_model import LogisticRegression\n",
    "from sklearn.tree import DecisionTreeClassifier\n",
    "from sklearn.utils import check_random_state\n",
    "from sklearn.svm import SVC\n",
    "from sklearn.metrics import accuracy_score\n",
    "from sklearn.metrics import precision_score"
   ]
  },
  {
   "cell_type": "code",
   "execution_count": 2,
   "id": "2f2bff6a",
   "metadata": {},
   "outputs": [
    {
     "data": {
      "text/html": [
       "<div>\n",
       "<style scoped>\n",
       "    .dataframe tbody tr th:only-of-type {\n",
       "        vertical-align: middle;\n",
       "    }\n",
       "\n",
       "    .dataframe tbody tr th {\n",
       "        vertical-align: top;\n",
       "    }\n",
       "\n",
       "    .dataframe thead th {\n",
       "        text-align: right;\n",
       "    }\n",
       "</style>\n",
       "<table border=\"1\" class=\"dataframe\">\n",
       "  <thead>\n",
       "    <tr style=\"text-align: right;\">\n",
       "      <th></th>\n",
       "      <th>fixed acidity</th>\n",
       "      <th>volatile acidity</th>\n",
       "      <th>citric acid</th>\n",
       "      <th>residual sugar</th>\n",
       "      <th>chlorides</th>\n",
       "      <th>free sulfur dioxide</th>\n",
       "      <th>total sulfur dioxide</th>\n",
       "      <th>density</th>\n",
       "      <th>pH</th>\n",
       "      <th>sulphates</th>\n",
       "      <th>alcohol</th>\n",
       "      <th>quality</th>\n",
       "    </tr>\n",
       "  </thead>\n",
       "  <tbody>\n",
       "    <tr>\n",
       "      <th>0</th>\n",
       "      <td>8.1</td>\n",
       "      <td>0.27</td>\n",
       "      <td>0.41</td>\n",
       "      <td>1.45</td>\n",
       "      <td>0.033</td>\n",
       "      <td>11.0</td>\n",
       "      <td>63.0</td>\n",
       "      <td>0.9908</td>\n",
       "      <td>2.99</td>\n",
       "      <td>0.56</td>\n",
       "      <td>12.0</td>\n",
       "      <td>5</td>\n",
       "    </tr>\n",
       "    <tr>\n",
       "      <th>1</th>\n",
       "      <td>8.6</td>\n",
       "      <td>0.23</td>\n",
       "      <td>0.40</td>\n",
       "      <td>4.20</td>\n",
       "      <td>0.035</td>\n",
       "      <td>17.0</td>\n",
       "      <td>109.0</td>\n",
       "      <td>0.9947</td>\n",
       "      <td>3.14</td>\n",
       "      <td>0.53</td>\n",
       "      <td>9.7</td>\n",
       "      <td>5</td>\n",
       "    </tr>\n",
       "    <tr>\n",
       "      <th>2</th>\n",
       "      <td>7.9</td>\n",
       "      <td>0.18</td>\n",
       "      <td>0.37</td>\n",
       "      <td>1.20</td>\n",
       "      <td>0.040</td>\n",
       "      <td>16.0</td>\n",
       "      <td>75.0</td>\n",
       "      <td>0.9920</td>\n",
       "      <td>3.18</td>\n",
       "      <td>0.63</td>\n",
       "      <td>10.8</td>\n",
       "      <td>5</td>\n",
       "    </tr>\n",
       "    <tr>\n",
       "      <th>3</th>\n",
       "      <td>8.3</td>\n",
       "      <td>0.42</td>\n",
       "      <td>0.62</td>\n",
       "      <td>19.25</td>\n",
       "      <td>0.040</td>\n",
       "      <td>41.0</td>\n",
       "      <td>172.0</td>\n",
       "      <td>1.0002</td>\n",
       "      <td>2.98</td>\n",
       "      <td>0.67</td>\n",
       "      <td>9.7</td>\n",
       "      <td>5</td>\n",
       "    </tr>\n",
       "    <tr>\n",
       "      <th>4</th>\n",
       "      <td>6.2</td>\n",
       "      <td>0.66</td>\n",
       "      <td>0.48</td>\n",
       "      <td>1.20</td>\n",
       "      <td>0.029</td>\n",
       "      <td>29.0</td>\n",
       "      <td>75.0</td>\n",
       "      <td>0.9892</td>\n",
       "      <td>3.33</td>\n",
       "      <td>0.39</td>\n",
       "      <td>12.8</td>\n",
       "      <td>8</td>\n",
       "    </tr>\n",
       "  </tbody>\n",
       "</table>\n",
       "</div>"
      ],
      "text/plain": [
       "   fixed acidity  volatile acidity  citric acid  residual sugar  chlorides  \\\n",
       "0            8.1              0.27         0.41            1.45      0.033   \n",
       "1            8.6              0.23         0.40            4.20      0.035   \n",
       "2            7.9              0.18         0.37            1.20      0.040   \n",
       "3            8.3              0.42         0.62           19.25      0.040   \n",
       "4            6.2              0.66         0.48            1.20      0.029   \n",
       "\n",
       "   free sulfur dioxide  total sulfur dioxide  density    pH  sulphates  \\\n",
       "0                 11.0                  63.0   0.9908  2.99       0.56   \n",
       "1                 17.0                 109.0   0.9947  3.14       0.53   \n",
       "2                 16.0                  75.0   0.9920  3.18       0.63   \n",
       "3                 41.0                 172.0   1.0002  2.98       0.67   \n",
       "4                 29.0                  75.0   0.9892  3.33       0.39   \n",
       "\n",
       "   alcohol  quality  \n",
       "0     12.0        5  \n",
       "1      9.7        5  \n",
       "2     10.8        5  \n",
       "3      9.7        5  \n",
       "4     12.8        8  "
      ]
     },
     "execution_count": 2,
     "metadata": {},
     "output_type": "execute_result"
    }
   ],
   "source": [
    "data = pd.read_csv('white_wine.csv')\n",
    "data.head()"
   ]
  },
  {
   "cell_type": "markdown",
   "id": "bc74f997",
   "metadata": {},
   "source": [
    "## Настройка датасета"
   ]
  },
  {
   "cell_type": "code",
   "execution_count": 3,
   "id": "8baafab4",
   "metadata": {},
   "outputs": [],
   "source": [
    "design_matrix, target = data.drop(columns=['quality']).to_numpy(dtype=np.longdouble), np.array(data['quality'], dtype=np.longdouble)"
   ]
  },
  {
   "cell_type": "markdown",
   "id": "529bb719",
   "metadata": {},
   "source": [
    "Разделим на два класса: Первый - quality >= 6, второй - quality <= 6."
   ]
  },
  {
   "cell_type": "code",
   "execution_count": 4,
   "id": "6d6c4a0f",
   "metadata": {},
   "outputs": [
    {
     "name": "stdout",
     "output_type": "stream",
     "text": [
      "55.62770562770562\n",
      "44.37229437229438\n"
     ]
    }
   ],
   "source": [
    "print(data[data['quality'] >= 6].shape[0] / data['quality'].shape[0] * 100)\n",
    "print(data[data['quality'] < 6].shape[0] / data['quality'].shape[0] * 100)\n",
    "\n",
    "for index in range(len(target)):\n",
    "    if target[index] >= 6:\n",
    "        target[index] = 1\n",
    "    else:\n",
    "        target[index] = 0"
   ]
  },
  {
   "cell_type": "markdown",
   "id": "991a158d",
   "metadata": {},
   "source": [
    "Отнормируем входные признаки и разобьем на обучающую и на тестовую выборки.."
   ]
  },
  {
   "cell_type": "code",
   "execution_count": 5,
   "id": "16f4f438",
   "metadata": {},
   "outputs": [],
   "source": [
    "cnt_signs = design_matrix.shape[1]\n",
    "max_values = np.zeros(cnt_signs)\n",
    "for i in range(cnt_signs):\n",
    "    max_in_clmn = design_matrix[:, i].max()\n",
    "    max_values[i] = max_in_clmn\n",
    "    design_matrix[:, i] /= max_in_clmn\n",
    "\n",
    "features_train, features_test, target_train, target_test = train_test_split(design_matrix, target, \n",
    "                                                                            test_size=0.2, random_state=24)"
   ]
  },
  {
   "cell_type": "markdown",
   "id": "d09ccef8",
   "metadata": {},
   "source": [
    "## Логистическая регрессия"
   ]
  },
  {
   "cell_type": "code",
   "execution_count": 6,
   "id": "81bc2b42",
   "metadata": {},
   "outputs": [],
   "source": [
    "class LogReg:\n",
    "    \n",
    "    def __init__(self, step=1e-1, it_count=10000):\n",
    "        self.step = step\n",
    "        self.it_count = it_count\n",
    "\n",
    "    def __add_x0(self, X):\n",
    "        intercept = np.ones((X.shape[0], 1))\n",
    "        return np.hstack((intercept, X))\n",
    "\n",
    "    def get_coeff(self, features, target):\n",
    "        cnt = 0\n",
    "        for i in range(target.shape[0]):\n",
    "            if self.predict(features[i]) == target[i]:\n",
    "                cnt += 1\n",
    "        return cnt / target.shape[0]\n",
    "    \n",
    "    def precision(self, features, target):\n",
    "        tp = 0\n",
    "        fp = 0;\n",
    "        for i in range(target.shape[0]):\n",
    "            if self.predict(features[i]) == 1:\n",
    "                if target[i] == 1:\n",
    "                    tp += 1\n",
    "                else: \n",
    "                    fp += 1\n",
    "        return tp / (tp + fp)\n",
    "    \n",
    "    def f(self, z):\n",
    "        return 1 / (1 + np.exp(-z))\n",
    "\n",
    "    def fit(self, x, y):\n",
    "        X = self.__add_x0(copy.deepcopy(x))\n",
    "        self.__weights = np.zeros(X.shape[1])\n",
    "\n",
    "        for i in range(self.it_count):\n",
    "            z = np.dot(X, self.__weights)\n",
    "            grad = np.dot(X.T, self.f(z) - y) / y.size\n",
    "            self.__weights -= self.step * grad\n",
    "\n",
    "    def predict(self, x):\n",
    "        X = self.__add_x0(np.array([copy.deepcopy(x)]))\n",
    "        return self.f(np.dot(X, self.__weights)).round()\n",
    "\n"
   ]
  },
  {
   "cell_type": "markdown",
   "id": "41cc064e",
   "metadata": {},
   "source": [
    "### Проверка точности и сравнение с реализацией sklearn"
   ]
  },
  {
   "cell_type": "code",
   "execution_count": 7,
   "id": "90b2cb98",
   "metadata": {},
   "outputs": [],
   "source": [
    "mlg = LogReg()\n",
    "mlg.fit(features_train, target_train)"
   ]
  },
  {
   "cell_type": "code",
   "execution_count": 8,
   "id": "8d069b30",
   "metadata": {},
   "outputs": [
    {
     "name": "stdout",
     "output_type": "stream",
     "text": [
      "Accuracy собственной реализации: 76.8918918918919\n",
      "Precision собственной реализации: 78.9838337182448\n"
     ]
    }
   ],
   "source": [
    "print('Accuracy собственной реализации: {}'\n",
    "      .format(mlg.get_coeff(features_test, target_test) * 100))\n",
    "print('Precision собственной реализации: {}'\n",
    "      .format(mlg.precision(features_test, target_test) * 100))"
   ]
  },
  {
   "cell_type": "code",
   "execution_count": 9,
   "id": "e1c032f4",
   "metadata": {},
   "outputs": [
    {
     "data": {
      "text/plain": [
       "LogisticRegression()"
      ]
     },
     "execution_count": 9,
     "metadata": {},
     "output_type": "execute_result"
    }
   ],
   "source": [
    "sklg = LogisticRegression()\n",
    "sklg.fit(features_train, target_train)"
   ]
  },
  {
   "cell_type": "code",
   "execution_count": 29,
   "id": "4be14c59",
   "metadata": {},
   "outputs": [
    {
     "name": "stdout",
     "output_type": "stream",
     "text": [
      "Accurace реализации sklearn: 77.97297297297298\n",
      "Precision реализации sklearn: 79.85781990521326\n"
     ]
    }
   ],
   "source": [
    "print('Accurace реализации sklearn: {}'\n",
    "      .format(sklg.score(features_test, target_test) * 100))\n",
    "tmp = sklg.predict(features_test)\n",
    "print('Precision реализации sklearn: {}'\n",
    "      .format(precision_score(tmp, target_test, average = 'binary') * 100))"
   ]
  },
  {
   "cell_type": "markdown",
   "id": "c7a5e149",
   "metadata": {},
   "source": [
    "## Дерево решений"
   ]
  },
  {
   "cell_type": "code",
   "execution_count": 11,
   "id": "386180bb",
   "metadata": {},
   "outputs": [],
   "source": [
    "class DesTree:\n",
    "    def __init__(self, max_depth=10, min_samples_split=2, min_samples_leaf=1):\n",
    "        self.max_depth = max_depth\n",
    "        self.min_samples_split = min_samples_split\n",
    "        self.min_samples_leaf = min_samples_leaf\n",
    "\n",
    "    def fit(self, f, y):\n",
    "        n_samples, self.n_features_ = f.shape\n",
    "        self.min_samples_split = max(self.min_samples_split, 2 * self.min_samples_leaf)\n",
    "        f = np.hstack([f, np.array([[k] for k in y])])\n",
    "        self.root = self.__split(f)\n",
    "        self.split(self.root, 1)\n",
    "\n",
    "    def __split(self, dataset):\n",
    "        class_values = list(set(row[-1] for row in dataset))\n",
    "        b_index, b_value, b_score, b_groups = 999, 999, 999, None\n",
    "        for index in range(len(dataset[0]) - 1):\n",
    "            for row in dataset:\n",
    "                groups = self.test_split(index, row[index], dataset)\n",
    "                GINI = self.__GINI(groups, class_values)\n",
    "                if GINI < b_score:\n",
    "                    b_index, b_value, b_score, b_groups = index, row[index], GINI, groups\n",
    "        return {'index': b_index, 'value': b_value, 'groups': b_groups}\n",
    "\n",
    "    def __GINI(self, groups, classes):\n",
    "        n_instances = float(sum([len(group) for group in groups]))\n",
    "        GINI = 0.0\n",
    "        for group in groups:\n",
    "            size = float(len(group))\n",
    "            if size == 0:\n",
    "                continue\n",
    "            score = 0.0\n",
    "            for class_val in classes:\n",
    "                p = [row[-1] for row in group].count(class_val) / size\n",
    "                score += p * p\n",
    "            GINI += (1.0 - score) * (size / n_instances)\n",
    "        return GINI\n",
    "\n",
    "    def test_split(self, index, value, dataset):\n",
    "        l, r = list(), list()\n",
    "        for row in dataset:\n",
    "            if row[index] < value:\n",
    "                l.append(row)\n",
    "            else:\n",
    "                r.append(row)\n",
    "        return l, r\n",
    "\n",
    "    def __terminal(self, group):\n",
    "        outcomes = [row[-1] for row in group]\n",
    "        return max(set(outcomes), key=outcomes.count)\n",
    "\n",
    "    def split(self, node, depth):\n",
    "        l, r = node['groups']\n",
    "        del (node['groups'])\n",
    "        if not l or not r:\n",
    "            node['l'] = node['r'] = self.__terminal(l + r)\n",
    "            return\n",
    "        if depth >= self.max_depth:\n",
    "            node['l'], node['r'] = self.__terminal(l), self.__terminal(r)\n",
    "            return\n",
    "        if len(l) <= self.min_samples_leaf:\n",
    "            node['l'] = self.__terminal(l)\n",
    "        else:\n",
    "            node['l'] = self.__split(l)\n",
    "            self.split(node['l'], depth + 1)\n",
    "        if len(r) <= self.min_samples_leaf:\n",
    "            node['r'] = self.__terminal(r)\n",
    "        else:\n",
    "            node['r'] = self.__split(r)\n",
    "            self.split(node['r'], depth + 1)\n",
    "\n",
    "    def print_tree(self, node, depth=0):\n",
    "        if isinstance(node, dict):\n",
    "            print('%s[X%d < %.3f]' % ((depth * ' ', (node['index'] + 1), node['value'])))\n",
    "            self.print_tree(node['l'], depth + 1)\n",
    "            self.print_tree(node['r'], depth + 1)\n",
    "        else:\n",
    "            print('%s[%s]' % ((depth * ' ', node)))\n",
    "\n",
    "    def __predict(self, row, node=None):\n",
    "        if node is None:\n",
    "            node = self.root\n",
    "        if row[node['index']] < node['value']:\n",
    "            if isinstance(node['l'], dict):\n",
    "                return self.__predict(row, node['l'])\n",
    "            else:\n",
    "                return node['l']\n",
    "        else:\n",
    "            if isinstance(node['r'], dict):\n",
    "                return self.__predict(row, node['r'])\n",
    "            else:\n",
    "                return node['r']\n",
    "\n",
    "    def predict(self, X):\n",
    "        allres = []\n",
    "        for row in X:\n",
    "            res = self.__predict(row)\n",
    "            allres.append(res)\n",
    "        return np.array(allres)\n",
    "   "
   ]
  },
  {
   "cell_type": "markdown",
   "id": "7d84fe88",
   "metadata": {},
   "source": [
    "### Проверка точности и сравнение с реализацией sklearn"
   ]
  },
  {
   "cell_type": "code",
   "execution_count": 25,
   "id": "ee69845b",
   "metadata": {
    "scrolled": true
   },
   "outputs": [
    {
     "name": "stdout",
     "output_type": "stream",
     "text": [
      "Accuracy реализации sklearn: 80.27027027027027\n",
      "Precision реализации sklearn: 81.99052132701422\n"
     ]
    }
   ],
   "source": [
    "dt = DecisionTreeClassifier(max_depth=7)\n",
    "dt.fit(features_train, target_train)\n",
    "tmp = dt.predict(features_test)\n",
    "print('Accuracy реализации sklearn: {}'\n",
    "    .format(dt.score(features_test, target_test) * 100))\n",
    "print('Precision реализации sklearn: {}'\n",
    "      .format(precision_score(tmp, target_test, average = 'binary') * 100))"
   ]
  },
  {
   "cell_type": "code",
   "execution_count": 26,
   "id": "b08fd298",
   "metadata": {},
   "outputs": [
    {
     "name": "stdout",
     "output_type": "stream",
     "text": [
      "Accuracy собственной реализации: 82.2972972972973\n",
      "Precision собственной реализации: 83.41232227488152\n"
     ]
    }
   ],
   "source": [
    "tr = DesTree()\n",
    "tr.fit(features_train, target_train)\n",
    "tt = tr.predict(features_test)\n",
    "print('Accuracy собственной реализации: {}'\n",
    "      .format(accuracy_score(tt, target_test) * 100))\n",
    "print('Precision собственной реализации: {}'\n",
    "      .format(precision_score(tt, target_test) * 100))"
   ]
  },
  {
   "cell_type": "markdown",
   "id": "51c3eb6d",
   "metadata": {},
   "source": [
    "## Метод опорных векторов"
   ]
  },
  {
   "cell_type": "code",
   "execution_count": 14,
   "id": "a090e5ef",
   "metadata": {},
   "outputs": [],
   "source": [
    "def projection_simplex(v, z=1):\n",
    "    n_features = v.shape[0]\n",
    "    u = np.sort(v)[::-1]\n",
    "    cssv = np.cumsum(u) - z\n",
    "    ind = np.arange(n_features) + 1\n",
    "    cond = u - cssv / ind > 0\n",
    "    rho = ind[cond][-1]\n",
    "    theta = cssv[cond][-1] / float(rho)\n",
    "    w = np.maximum(v - theta, 0)\n",
    "    return w"
   ]
  },
  {
   "cell_type": "code",
   "execution_count": 18,
   "id": "3b06c94c",
   "metadata": {},
   "outputs": [],
   "source": [
    "class SVM:\n",
    "\n",
    "    def __init__(self, C=1, max_iter=100, eps=0.01, random_state=None, verbose=0):\n",
    "        self.C = C\n",
    "        self.max_iter = max_iter\n",
    "        self.eps = eps\n",
    "        self.random_state = random_state\n",
    "        self.verbose = verbose\n",
    "\n",
    "    def partial_gradient(self,f, t, i):\n",
    "        g = np.dot(f[i], self.coef.T) + 1\n",
    "        g[int(t[i])] -= 1\n",
    "        return g\n",
    "\n",
    "    def violation(self, g, t, i):\n",
    "        smallest = np.inf\n",
    "        for k in range(g.shape[0]):\n",
    "            if k == t[i] and self.dual_coef[k, i] >= self.C:\n",
    "                continue\n",
    "            elif k != t[i] and self.dual_coef[k, i] >= 0:\n",
    "                continue\n",
    "\n",
    "            smallest = min(smallest, g[k])\n",
    "        return g.max() - smallest\n",
    "\n",
    "    def solver(self, g, t, norms, i):\n",
    "        Ci = np.zeros(g.shape[0])\n",
    "        Ci[int(t[i])] = self.C\n",
    "        beta_hat = norms[i] * (Ci - self.dual_coef[:, i]) + g / norms[i]\n",
    "        z = self.C * norms[i]\n",
    "        beta = projection_simplex(beta_hat, z)\n",
    "        return Ci - self.dual_coef[:, i] - beta / norms[i]\n",
    "\n",
    "    def fit(self,f, t):\n",
    "        n_samples, n_features =f.shape\n",
    "        n_classes = 4\n",
    "        self.dual_coef = np.zeros((n_classes, n_samples), dtype=np.float64)\n",
    "        self.coef = np.zeros((n_classes, n_features))\n",
    "        norms = np.sqrt(np.sum(f ** 2, axis=1))\n",
    "        rs = check_random_state(self.random_state)\n",
    "        ind = np.arange(n_samples)\n",
    "        rs.shuffle(ind)\n",
    "        violation_init = None\n",
    "        for it in range(self.max_iter):\n",
    "            violation_sum = 0\n",
    "            for idx in range(n_samples):\n",
    "                i = ind[idx]\n",
    "\n",
    "                if norms[i] == 0:\n",
    "                    continue\n",
    "                g = self.partial_gradient(f, t, i)\n",
    "                v = self.violation(g, t, i)\n",
    "                violation_sum += v\n",
    "                if v < 1e-12:\n",
    "                    continue\n",
    "                delta = self.solver(g, t, norms, i)\n",
    "                self.coef += (delta *f[i][:, np.newaxis]).T\n",
    "                self.dual_coef[:, i] += delta\n",
    "            if it == 0:\n",
    "                violation_init = violation_sum\n",
    "            vratio = violation_sum / violation_init\n",
    "            if self.verbose >= 1:\n",
    "                print(\"iter\", it + 1, \"violation\", vratio)\n",
    "            if vratio < self.eps:\n",
    "                if self.verbose >= 1:\n",
    "                    print(\"Converged\")\n",
    "                break\n",
    "        return self\n",
    "\n",
    "    def predict(self,f):\n",
    "        decision = np.dot(f, self.coef.T)\n",
    "        pred = decision.argmax(axis=0)\n",
    "        return pred\n",
    "\n",
    "    def get_coeff(self, features, target):\n",
    "        cnt = 0\n",
    "        for i in range(target.shape[0]):\n",
    "            if self.predict(features[i]) == target[i]:\n",
    "                cnt += 1\n",
    "        return cnt / target.shape[0]\n",
    "    def precision(self, features, target):\n",
    "        tp = 0\n",
    "        fp = 0;\n",
    "        for i in range(target.shape[0]):\n",
    "            if self.predict(features[i]) == 1:\n",
    "                if target[i] == 1:\n",
    "                    tp += 1\n",
    "                else: \n",
    "                    fp += 1\n",
    "        return tp / (tp + fp)"
   ]
  },
  {
   "cell_type": "code",
   "execution_count": 20,
   "id": "d9c11b06",
   "metadata": {},
   "outputs": [
    {
     "name": "stdout",
     "output_type": "stream",
     "text": [
      "Accuracy собственной реализации: 78.37837837837837\n",
      "Precision собственной реализации: 84.8404255319149\n"
     ]
    }
   ],
   "source": [
    "svm = SVM()\n",
    "svm.fit(features_train, target_train)\n",
    "print('Accuracy собственной реализации: {}'\n",
    "      .format(svm.get_coeff(features_test, target_test) * 100))\n",
    "print('Precision собственной реализации: {}'\n",
    "      .format(svm.precision(features_test, target_test) * 100))"
   ]
  },
  {
   "cell_type": "code",
   "execution_count": 21,
   "id": "6c50aa72",
   "metadata": {},
   "outputs": [
    {
     "name": "stdout",
     "output_type": "stream",
     "text": [
      "Accuracy реализации sklearn: 79.45945945945945\n",
      "Precision реализации sklearn: 79.85781990521326\n"
     ]
    }
   ],
   "source": [
    "svc = SVC(decision_function_shape='ovr')\n",
    "svc.fit(features_train, target_train)\n",
    "print('Accuracy реализации sklearn: {}'\n",
    ".format(svc.score(features_test, target_test) * 100))\n",
    "tmp = svc.predict(features_test)\n",
    "print('Precision реализации sklearn: {}'\n",
    "      .format(precision_score(tmp, target_test, average = 'binary') * 100))"
   ]
  },
  {
   "cell_type": "code",
   "execution_count": null,
   "id": "77735fd3",
   "metadata": {},
   "outputs": [],
   "source": []
  }
 ],
 "metadata": {
  "kernelspec": {
   "display_name": "Python 3",
   "language": "python",
   "name": "python3"
  },
  "language_info": {
   "codemirror_mode": {
    "name": "ipython",
    "version": 3
   },
   "file_extension": ".py",
   "mimetype": "text/x-python",
   "name": "python",
   "nbconvert_exporter": "python",
   "pygments_lexer": "ipython3",
   "version": "3.8.8"
  }
 },
 "nbformat": 4,
 "nbformat_minor": 5
}
